{
  "nbformat": 4,
  "nbformat_minor": 0,
  "metadata": {
    "colab": {
      "provenance": []
    },
    "kernelspec": {
      "name": "python3",
      "display_name": "Python 3"
    },
    "language_info": {
      "name": "python"
    }
  },
  "cells": [
    {
      "cell_type": "code",
      "execution_count": null,
      "metadata": {
        "id": "yiATaT-1USM0"
      },
      "outputs": [],
      "source": []
    },
    {
      "cell_type": "markdown",
      "source": [
        "#ASSIGNMENT FOR DATA TYPES AND STRUCTURES\n",
        "\n",
        "#1. What are data structures, and why are they important?\n",
        " - Data structures bring together the data elements in a logical way and facilitate the effective use, persistence and sharing of data. They provide a formal model that describes the way the data elements are organized. Data structures are the building blocks for more sophisticated applications.\n",
        "\n",
        " Data strucures are important because they provide a way to organize and store data in a way that is efficient and easy to manipulate. Without data structures, it would be difficult to create efficient and effective software. One of the most important reasons for using data structures is to improve the performance of a program.\n",
        "\n",
        "#2. Explain the difference between mutable and immutable data types with examples?\n",
        " - Mutable data types are the ones which can be modified or the values or the content can be changed once after they are created but immutable data types are the ones which we cannot change or modify once they are created.\n",
        "\n",
        " For example: Mutable examples include lists, dictionaries, and sets, while immutable examples include strings and tuples.\n",
        "\n",
        "#3. What are the main differences between lists and tuples in Python ?\n",
        " - The main difference between lists and tuples is that lists are mutable data types and tuples are immutable data types. Which means that the elements of lists can be modified once they are created whereas the elements of tuples cannot be modified after they are already created.  \n",
        "\n",
        " Lists are well-suited for dynamic data where you need to frequently update the collection. Whereas tuples are ideal for fixed data where the elements should not be modified, such as coordinates, configuration settings, or representing immutable records.\n",
        "\n",
        " Lists have a variety of built-in methods for manipulation, such as append(), remove(), sort(), etc. Whereas tuples have fewer built-in methods compared to lists, primarily for accessing elements or checking their presence.\n",
        "\n",
        "#4. Describe how dictionaries store data?\n",
        "  - A python dictionary is a data structure that stores the value in key: value pairs. Values in a dictionary can be of any data type and can be duplicated, whereas keys can't be repeated and must be immutable. A dictionary is an unordered, mutable data structure where each key must be unique and immutable, while values can be of any data type.\n",
        "\n",
        "  The syntax for defining a dictionary in Python involves enclosing comma-separated key-value pairs within curly braces {}. Each key-value pair is structured as key: value, where the key and value are separated by a colon.\n",
        "\n",
        "#5. Why might you use a set instead of a list in Python?\n",
        "- Both sets and lists have different uses in python according to our needs, so accordingly we choose whether to use lists or sets.\n",
        "\n",
        "  Since sets do not store indexed data or duplicates, they use less memory than lists and are less computationally expensive. As a result, sets take less time to search through.\n",
        "\n",
        "#6. What is a string in Python, and how is it different from a list?\n",
        " - In python, strings are used for representing textual data. A string is a sequence of characters enclosed in either single quotes ('') or double quotes (“”).\n",
        "\n",
        "   Like lists, strings are also objects and have methods. One difference, though is that while some list methods (like sort and append) change the list, none of the string methods ever change a string.\n",
        "\n",
        "#7. How do tuples ensure data integrity in Python?\n",
        " - Tuples in Python ensure data integrity through their immutability. Once a tuple is created, its elements cannot be changed, added, or removed. This characteristic makes tuples suitable for situations where data should remain constant throughout the program's execution.\n",
        "   \n",
        "#8. What is a hash table, and how does it relate to dictionaries in Python?\n",
        " - A hash table is a data structure that allows for quick insertion, deletion, and retrieval of data.\n",
        "\n",
        " When a key is added to a dictionary, Python calculates its hash value using a hash function. This hash value determines the index in the hash table where the key-value pair will be stored. When retrieving a value, Python again calculates the hash of the key and directly accesses the corresponding index in the hash table, allowing for fast lookups.\n",
        "\n",
        "#9. Can lists contain different data types in Python3in Python ?\n",
        " - Yes, lists can contain different data types in python. Python lists are versatile and can hold elements of various types within the same list, including integers, floats, strings, booleans, and even other lists or dictionaries.\n",
        "\n",
        "#10. Explain why strings are immutable in Python?\n",
        " - Python strings are \"immutable\" which means they cannot be changed after they are created. Strings are immutable because of several design choices that prioritize efficiency, security, and simplicity. Immutability ensures that once a string is created, its value cannot be altered. Any operation that appears to modify a string actually creates a new string object.\n",
        "\n",
        " Immutability also simplifies memory management.Also  it enhances security by preventing unintended modifications to string data.\n",
        "\n",
        "#11. What advantages do dictionaries offer over lists for certain tasks?\n",
        " -  1. Dictionaries in Python offer fast data retrieval: Unlike lists where you have to traverse through each element to find a value, dictionaries use hash tables for quick access to values based on keys.\n",
        "\n",
        "    2. Efficient for storing large amounts of data: Due to its efficient data retrieval mechanism, dictionaries are ideal for storing and accessing large datasets quickly.\n",
        "     \n",
        "    3. Easy to understand key value pairs: Dictionaries consist of key value pairs, making it easier to associate and access relevant data together.\n",
        "\n",
        "#12. Describe a scenario where using a tuple would be preferable over a list?\n",
        "- Use a tuple if you need an immutable collection where the elements won't change after creation.    \n",
        "- Advantages of tuple over list in python are that they can be sorted, iterated and they maintain their order automatically. Disadvantages would be that you cannot add or remove elements from a tuple once created.\n",
        "\n",
        "#13. How do sets handle duplicate values in Python?\n",
        "- Sets in Python are designed to store only unique elements. When attempting to add a duplicate value to a set, it is automatically ignored, maintaining the set's property of containing only distinct elements. This behavior is fundamental to the nature of sets as unordered collections of unique items.\n",
        "\n",
        "#14. How does the “in” keyword work differently for lists and dictionaries?\n",
        "- For Lists: The in keyword in Python is used to check if a value exists within a sequence, such as a list. It returns True if the value is found in the list and False otherwise.\n",
        "\n",
        " For Dictionaries: When used with dictionaries, it specifically checks if a given key exists within the dictionary's keys. It does not search for values. The in operator provides an efficient way to verify the presence of a key.\n",
        "\n",
        "#15. Can you modify the elements of a tuple? Explain why or why not.\n",
        "- No, we cannot directly modify the elements of a tuple in Python after it's been created. Tuples are immutable, meaning their contents cannot be changed once they are defined. Trying to modify a tuple will result in a TypeError.\n",
        "\n",
        "#16. What is a nested dictionary, and give an example of its use case.\n",
        "- A nested dictionary is a dictionary inside a dictionary. It's a collection of dictionaries into one single dictionary.\n",
        "\n",
        "For example :people = {1: {'name': 'John', 'age': '27'},\n",
        "          2: {'name': 'Marie', 'age': '22'}}\n",
        "\n",
        "print(people)\n",
        "\n",
        "here \"people\" is a nested dictionary where \"1\" and \"2\" are assigned to people.\n",
        "\n",
        "#17. Describe the time complexity of accessing elements in a dictionary.\n",
        "-  Accessing elements by their key typically has a time complexity of O(1) on average. This means the time required to access an element doesn't depend on the number of elements in the dictionary, and it remains constant regardless of size. In the worst-case scenario, due to potential hash collisions, the complexity can be O(n), where n is the number of elements.\n",
        "\n",
        "#18. In what situations are lists preferred over dictionaries?\n",
        "- Lists are often preferred over dictionaries when the order of elements is crucial, for performing operations like sorting, or when you need a simple way to store and access items by their position. Dictionaries excel in situations where fast lookups by key are needed.\n",
        "\n",
        "#19. Why are dictionaries considered unordered, and how does that affect data retrieval?\n",
        "- Dictionaries are unordered. When we say that dictionaries are ordered, it means that the items have a defined order, and that order will not change. Unordered means that the items do not have a defined order, you cannot refer to an item by using an index.Data retrieval is primarily determined by the key used to access the value.\n",
        "\n",
        "#20. Explain the difference between a list and a dictionary in terms of data retrieval.\n",
        "- In terms of data retrieval, a dictionary excels at quickly accessing values using unique keys, while a list retrieves values based on their position (index) in a sequence. Lists require searching through elements, while dictionaries use hashing for near-instantaneous lookup, making them significantly faster for accessing data by a specific identifier.  \n",
        "\n",
        "\n",
        "\n",
        "\n",
        "\n",
        "\n"
      ],
      "metadata": {
        "id": "6Y4tlStl49pY"
      }
    },
    {
      "cell_type": "markdown",
      "source": [
        "#PRACTICAL QUESTIONS"
      ],
      "metadata": {
        "id": "gqberCKQeW1l"
      }
    },
    {
      "cell_type": "code",
      "source": [
        "#1. Write a code to create a string with your name and print it.\n",
        "\n",
        "name = \"Vanshita Soni\"\n",
        "print(name)\n"
      ],
      "metadata": {
        "colab": {
          "base_uri": "https://localhost:8080/"
        },
        "id": "SdaGW4c8bnoP",
        "outputId": "5816f425-bed8-4707-84d3-685d273f1a9d"
      },
      "execution_count": 5,
      "outputs": [
        {
          "output_type": "stream",
          "name": "stdout",
          "text": [
            "Vanshita Soni\n"
          ]
        }
      ]
    },
    {
      "cell_type": "code",
      "source": [
        "#2. Write a code to find the length of the string \"Hello World\".\n",
        "\n",
        "a=\"Hello World\"\n",
        "print(len(a))"
      ],
      "metadata": {
        "colab": {
          "base_uri": "https://localhost:8080/"
        },
        "id": "wbrYUO9FeVp0",
        "outputId": "7aad6956-1053-49f2-dde4-137b399e4283"
      },
      "execution_count": 6,
      "outputs": [
        {
          "output_type": "stream",
          "name": "stdout",
          "text": [
            "11\n"
          ]
        }
      ]
    },
    {
      "cell_type": "code",
      "source": [
        "#3. Write a code to slice the first 3 characters from the string \"Python Programming\".\n",
        "\n",
        "a= \"Python Programming\"\n",
        "sliced_string = a[:3]\n",
        "print(sliced_string)"
      ],
      "metadata": {
        "colab": {
          "base_uri": "https://localhost:8080/"
        },
        "id": "wacRJTavesqu",
        "outputId": "6eeecc27-c2d4-4a62-8970-785c6de41990"
      },
      "execution_count": 7,
      "outputs": [
        {
          "output_type": "stream",
          "name": "stdout",
          "text": [
            "Pyt\n"
          ]
        }
      ]
    },
    {
      "cell_type": "code",
      "source": [
        "#4. Write a code to convert the string \"hello\" to uppercase.\n",
        "\n",
        "a=\"hello\"\n",
        "uppercase_a =a.upper()\n",
        "print(uppercase_a)"
      ],
      "metadata": {
        "colab": {
          "base_uri": "https://localhost:8080/"
        },
        "id": "qj3uKPH2fT8e",
        "outputId": "e816ed31-a15c-46a7-cb6b-18ad52cfd4d2"
      },
      "execution_count": 8,
      "outputs": [
        {
          "output_type": "stream",
          "name": "stdout",
          "text": [
            "HELLO\n"
          ]
        }
      ]
    },
    {
      "cell_type": "code",
      "source": [
        "#5. Write a code to replace the word \"apple\" with \"orange\" in the string \"I like apple\".\n",
        "\n",
        "a=\"I like apple\"\n",
        "new_a=a.replace(\"apple\", \"orange\")\n",
        "print(new_a)"
      ],
      "metadata": {
        "colab": {
          "base_uri": "https://localhost:8080/"
        },
        "id": "zD4V9o0oh2xP",
        "outputId": "b9f4599c-2e4c-4f90-907e-0834e6470b74"
      },
      "execution_count": 9,
      "outputs": [
        {
          "output_type": "stream",
          "name": "stdout",
          "text": [
            "I like orange\n"
          ]
        }
      ]
    },
    {
      "cell_type": "code",
      "source": [
        "#6. Write a code to create a list with numbers 1 to 5 and print it.\n",
        "\n",
        "numbers=list(range(1,6))\n",
        "print(numbers)"
      ],
      "metadata": {
        "colab": {
          "base_uri": "https://localhost:8080/"
        },
        "id": "289wdlJ-i0LL",
        "outputId": "854bc8b2-f004-4dde-f3be-ab443fcae676"
      },
      "execution_count": 10,
      "outputs": [
        {
          "output_type": "stream",
          "name": "stdout",
          "text": [
            "[1, 2, 3, 4, 5]\n"
          ]
        }
      ]
    },
    {
      "cell_type": "code",
      "source": [
        "#7. Write a code to append the number 10 to the list [1, 2, 3, 4].\n",
        "\n",
        "a=[1,2,3,4]\n",
        "a.append(10)\n",
        "print(a)\n",
        "\n"
      ],
      "metadata": {
        "colab": {
          "base_uri": "https://localhost:8080/"
        },
        "id": "a5GhnmIijuk8",
        "outputId": "22cc0ded-196d-4a6f-cd47-f23c637b7a09"
      },
      "execution_count": 11,
      "outputs": [
        {
          "output_type": "stream",
          "name": "stdout",
          "text": [
            "[1, 2, 3, 4, 10]\n"
          ]
        }
      ]
    },
    {
      "cell_type": "code",
      "source": [
        "#8. Write a code to remove the number 3 from the list [1, 2, 3, 4, 5].\n",
        "\n",
        "a=[1,2,3,4,5]\n",
        "a.remove(3)\n",
        "print(a)"
      ],
      "metadata": {
        "colab": {
          "base_uri": "https://localhost:8080/"
        },
        "id": "w7-pQsDNkOX6",
        "outputId": "ba04ffb7-0584-42e9-a876-a4f0303913df"
      },
      "execution_count": 12,
      "outputs": [
        {
          "output_type": "stream",
          "name": "stdout",
          "text": [
            "[1, 2, 4, 5]\n"
          ]
        }
      ]
    },
    {
      "cell_type": "code",
      "source": [
        "#9. Write a code to access the second element in the list ['a', 'b', 'c', 'd'].\n",
        "\n",
        "a=['a','b','c','d']\n",
        "second_element = a[1]\n",
        "print(second_element)"
      ],
      "metadata": {
        "colab": {
          "base_uri": "https://localhost:8080/"
        },
        "id": "AiOQWybtkdkK",
        "outputId": "72747d81-fd04-4372-b39f-2e0400fd2f95"
      },
      "execution_count": 13,
      "outputs": [
        {
          "output_type": "stream",
          "name": "stdout",
          "text": [
            "b\n"
          ]
        }
      ]
    },
    {
      "cell_type": "code",
      "source": [
        "#10. Write a code to reverse the list [10, 20, 30, 40, 50].\n",
        "\n",
        "a=['10','20','30','40','50']\n",
        "reverse_a=a[::-1]\n",
        "print(reverse_a)"
      ],
      "metadata": {
        "colab": {
          "base_uri": "https://localhost:8080/"
        },
        "id": "o0RnIxPglKZS",
        "outputId": "2522855a-48f2-4c2f-ac49-36369ae134fb"
      },
      "execution_count": 14,
      "outputs": [
        {
          "output_type": "stream",
          "name": "stdout",
          "text": [
            "['50', '40', '30', '20', '10']\n"
          ]
        }
      ]
    },
    {
      "cell_type": "code",
      "source": [
        "#11. Write a code to create a tuple with the elements 100, 200, 300 and print it.\n",
        "\n",
        "a=('100','200','300')\n",
        "print(a)"
      ],
      "metadata": {
        "colab": {
          "base_uri": "https://localhost:8080/"
        },
        "id": "kf9IJuKPll9E",
        "outputId": "a1845ae6-3c09-48ae-b45a-98c7923114ff"
      },
      "execution_count": 15,
      "outputs": [
        {
          "output_type": "stream",
          "name": "stdout",
          "text": [
            "('100', '200', '300')\n"
          ]
        }
      ]
    },
    {
      "cell_type": "code",
      "source": [
        "#12.  Write a code to access the second-to-last element of the tuple ('red', 'green', 'blue', 'yellow').\n",
        "\n",
        "a=('red','green','blue','yellow')\n",
        "second_last = a[-2]\n",
        "print(second_last)\n"
      ],
      "metadata": {
        "colab": {
          "base_uri": "https://localhost:8080/"
        },
        "id": "g6rl3sFRmAS7",
        "outputId": "44ad665a-bea6-4845-f4d8-2c49d096be62"
      },
      "execution_count": 16,
      "outputs": [
        {
          "output_type": "stream",
          "name": "stdout",
          "text": [
            "blue\n"
          ]
        }
      ]
    },
    {
      "cell_type": "code",
      "source": [
        "#13. Write a code to find the minimum number in the tuple (10, 20, 5, 15).\n",
        "\n",
        "a=(10,20,5,15)\n",
        "min_a=min(a)\n",
        "print(min_a)\n"
      ],
      "metadata": {
        "colab": {
          "base_uri": "https://localhost:8080/"
        },
        "id": "Rt5Pi0F5mbD2",
        "outputId": "e9163bdf-511e-41bb-ed13-559017e92628"
      },
      "execution_count": 17,
      "outputs": [
        {
          "output_type": "stream",
          "name": "stdout",
          "text": [
            "5\n"
          ]
        }
      ]
    },
    {
      "cell_type": "code",
      "source": [
        "#14.  Write a code to find the index of the element \"cat\" in the tuple ('dog', 'cat', 'rabbit').\n",
        "\n",
        "a=('dog', 'cat', 'rabbit')\n",
        "cat=a.index('cat')\n",
        "print(cat)"
      ],
      "metadata": {
        "colab": {
          "base_uri": "https://localhost:8080/"
        },
        "id": "CUhuE5_roPXV",
        "outputId": "b0300adb-0617-4792-fbb0-d008adf2f2ec"
      },
      "execution_count": 18,
      "outputs": [
        {
          "output_type": "stream",
          "name": "stdout",
          "text": [
            "1\n"
          ]
        }
      ]
    },
    {
      "cell_type": "code",
      "source": [
        "#15. Write a code to create a tuple containing three different fruits and check if \"kiwi\" is in it.\n",
        "\n",
        "fruits=('apple','mango','kiwi','orange')\n",
        "if \"kiwi\" in fruits:\n",
        "  print(\"yes, kiwi is present in fruits\")\n",
        "else:\n",
        "    print(\"No, kiwi isn't there in fruits\")\n"
      ],
      "metadata": {
        "colab": {
          "base_uri": "https://localhost:8080/"
        },
        "id": "GdV0zaMLpfYe",
        "outputId": "3a13ed97-8608-40e9-8542-3be4b54376e7"
      },
      "execution_count": 19,
      "outputs": [
        {
          "output_type": "stream",
          "name": "stdout",
          "text": [
            "yes, kiwi is present in fruits\n"
          ]
        }
      ]
    },
    {
      "cell_type": "code",
      "source": [
        "#16.  Write a code to create a set with the elements 'a', 'b', 'c' and print it.\n",
        "\n",
        "the_set ={'a','b','c'}\n",
        "print(the_set)\n"
      ],
      "metadata": {
        "colab": {
          "base_uri": "https://localhost:8080/"
        },
        "id": "i2dw6MCQrhNn",
        "outputId": "b1c88211-4b60-4d3f-df48-059885d63815"
      },
      "execution_count": 20,
      "outputs": [
        {
          "output_type": "stream",
          "name": "stdout",
          "text": [
            "{'a', 'b', 'c'}\n"
          ]
        }
      ]
    },
    {
      "cell_type": "code",
      "source": [
        "#17. Write a code to clear all elements from the set {1, 2, 3, 4, 5}.\n",
        "\n",
        "the_set={1,2,3,4,5}\n",
        "the_set.clear()\n",
        "print(the_set)"
      ],
      "metadata": {
        "colab": {
          "base_uri": "https://localhost:8080/"
        },
        "id": "9_kLyHvKvZ11",
        "outputId": "3b6f9c49-4d18-4b61-a334-b17e46fbbf9a"
      },
      "execution_count": 21,
      "outputs": [
        {
          "output_type": "stream",
          "name": "stdout",
          "text": [
            "set()\n"
          ]
        }
      ]
    },
    {
      "cell_type": "code",
      "source": [
        "#18. Write a code to remove the element 4 from the set {1, 2, 3, 4}.\n",
        "\n",
        "the_set={'1','2','3','4'}\n",
        "the_set.remove('4')\n",
        "print(the_set)\n"
      ],
      "metadata": {
        "colab": {
          "base_uri": "https://localhost:8080/"
        },
        "id": "OY8noTfdwGbb",
        "outputId": "66aaf9ed-b143-40cc-c8f2-c005818080e7"
      },
      "execution_count": 22,
      "outputs": [
        {
          "output_type": "stream",
          "name": "stdout",
          "text": [
            "{'2', '3', '1'}\n"
          ]
        }
      ]
    },
    {
      "cell_type": "code",
      "source": [
        "#19. Write a code to find the union of two sets {1, 2, 3} and {3, 4, 5}.\n",
        "\n",
        "set_1={'1','2','3'}\n",
        "set_2={'3','4','5'}\n",
        "set_3=set_1.union(set_2)\n",
        "print(set_3)"
      ],
      "metadata": {
        "colab": {
          "base_uri": "https://localhost:8080/"
        },
        "id": "ttU4Da33weks",
        "outputId": "6c7bedc3-8cd6-495b-d3b9-6edc7ab68c0d"
      },
      "execution_count": 23,
      "outputs": [
        {
          "output_type": "stream",
          "name": "stdout",
          "text": [
            "{'1', '4', '2', '5', '3'}\n"
          ]
        }
      ]
    },
    {
      "cell_type": "code",
      "source": [
        "#20. Write a code to find the intersection of two sets {1, 2, 3} and {2, 3, 4}.\n",
        "\n",
        "set_1={'1','2','3'}\n",
        "set_2={'2','3','4'}\n",
        "set_3=set_1.intersection(set_2)\n",
        "print(set_3)"
      ],
      "metadata": {
        "colab": {
          "base_uri": "https://localhost:8080/"
        },
        "id": "dUPA4xRgxEiZ",
        "outputId": "11d5526f-00b7-4b38-be05-36521ff936db"
      },
      "execution_count": 24,
      "outputs": [
        {
          "output_type": "stream",
          "name": "stdout",
          "text": [
            "{'3', '2'}\n"
          ]
        }
      ]
    },
    {
      "cell_type": "code",
      "source": [
        "#21. Write a code to create a dictionary with the keys \"name\", \"age\", and \"city\", and print it.\n",
        "\n",
        "dict_1={\"name\":\"Vanshita Soni\" , \"age\":\"22\", \"city\":\"Bhilai\" }\n",
        "print(dict_1)"
      ],
      "metadata": {
        "colab": {
          "base_uri": "https://localhost:8080/"
        },
        "id": "aJZfttjtxXXs",
        "outputId": "d714d5a9-8107-4aa5-9e3e-0808bff24bc6"
      },
      "execution_count": 25,
      "outputs": [
        {
          "output_type": "stream",
          "name": "stdout",
          "text": [
            "{'name': 'Vanshita Soni', 'age': '22', 'city': 'Bhilai'}\n"
          ]
        }
      ]
    },
    {
      "cell_type": "code",
      "source": [
        "#22. Write a code to add a new key-value pair \"country\": \"USA\" to the dictionary {'name': 'John', 'age': 25}.\n",
        "\n",
        "dict_1={'name': 'John', 'age': 25}\n",
        "dict_1[\"country\"]=\"USA\"\n",
        "print(dict_1)"
      ],
      "metadata": {
        "colab": {
          "base_uri": "https://localhost:8080/"
        },
        "id": "jhhODEeAx9Mh",
        "outputId": "69f2e19c-a953-437e-8eb0-1ab0fbc19556"
      },
      "execution_count": 26,
      "outputs": [
        {
          "output_type": "stream",
          "name": "stdout",
          "text": [
            "{'name': 'John', 'age': 25, 'country': 'USA'}\n"
          ]
        }
      ]
    },
    {
      "cell_type": "code",
      "source": [
        "#23. Write a code to access the value associated with the key \"name\" in the dictionary {'name': 'Alice', 'age': 30}.\n",
        "\n",
        "my_dict={'name': 'Alice', 'age': '30'}\n",
        "\n",
        "a=my_dict['name']\n",
        "print(a)"
      ],
      "metadata": {
        "colab": {
          "base_uri": "https://localhost:8080/"
        },
        "id": "J1uCAAOUytzO",
        "outputId": "a337a202-09e0-4396-9fdf-16514a7cf5cc"
      },
      "execution_count": 27,
      "outputs": [
        {
          "output_type": "stream",
          "name": "stdout",
          "text": [
            "Alice\n"
          ]
        }
      ]
    },
    {
      "cell_type": "code",
      "source": [
        "#24.  Write a code to remove the key \"age\" from the dictionary {'name': 'Bob', 'age': 22, 'city': 'New York'}.\n",
        "\n",
        "this_dict={'name': 'Bob', 'age': '22', 'city': 'New York'}\n",
        "this_dict.pop('age')\n",
        "print(this_dict)"
      ],
      "metadata": {
        "colab": {
          "base_uri": "https://localhost:8080/"
        },
        "id": "9pbrnCkDzLE-",
        "outputId": "0e419f90-dc37-424a-d976-49c7834c486b"
      },
      "execution_count": 28,
      "outputs": [
        {
          "output_type": "stream",
          "name": "stdout",
          "text": [
            "{'name': 'Bob', 'city': 'New York'}\n"
          ]
        }
      ]
    },
    {
      "cell_type": "code",
      "source": [
        "#25. Write a code to check if the key \"city\" exists in the dictionary {'name': 'Alice', 'city': 'Paris'}.\n",
        "\n",
        "my_dict={'name': 'Alice', 'city': 'Paris'}\n",
        "if \"city\" in my_dict:\n",
        "  print(\"yes, city exists in the dictionary\")\n",
        "else:\n",
        "  print(\"No, dictionary does not contain city\")\n",
        ""
      ],
      "metadata": {
        "colab": {
          "base_uri": "https://localhost:8080/"
        },
        "id": "wHBSCZV-zrlv",
        "outputId": "d574dc97-da40-4459-c9cb-77985331db56"
      },
      "execution_count": 29,
      "outputs": [
        {
          "output_type": "stream",
          "name": "stdout",
          "text": [
            "yes, city exists in the dictionary\n"
          ]
        }
      ]
    },
    {
      "cell_type": "code",
      "source": [
        "#26. Write a code to create a list, a tuple, and a dictionary, and print them all.\n",
        "\n",
        "the_list=['apple','kiwi','orange']\n",
        "the_tuple=('cat','dog','elephant')\n",
        "the_dict={'name':'Vanshita Soni','city':'Bhilai','age':'22'}\n",
        "print(the_list, the_tuple,the_dict)"
      ],
      "metadata": {
        "colab": {
          "base_uri": "https://localhost:8080/"
        },
        "id": "Zn2_lEWk0UBY",
        "outputId": "186feb3b-f5e6-4f15-aeed-f7bedad30249"
      },
      "execution_count": 30,
      "outputs": [
        {
          "output_type": "stream",
          "name": "stdout",
          "text": [
            "['apple', 'kiwi', 'orange'] ('cat', 'dog', 'elephant') {'name': 'Vanshita Soni', 'city': 'Bhilai', 'age': '22'}\n"
          ]
        }
      ]
    },
    {
      "cell_type": "code",
      "source": [
        "#27.  Write a code to create a list of 5 random numbers bet 1 and 100, sort it in ascending order, and print the result.(replaced)\n",
        "\n",
        "import random\n",
        "n = 5\n",
        "list_num = random.sample(range(1, 101), n)\n",
        "list_num.sort()\n",
        "print(list_num)"
      ],
      "metadata": {
        "colab": {
          "base_uri": "https://localhost:8080/"
        },
        "id": "viyEqin211DZ",
        "outputId": "b1b939ff-f882-4594-b47a-c0a57ca0bb02"
      },
      "execution_count": 31,
      "outputs": [
        {
          "output_type": "stream",
          "name": "stdout",
          "text": [
            "[17, 19, 24, 42, 99]\n"
          ]
        }
      ]
    },
    {
      "cell_type": "code",
      "source": [
        "#28. Write a code to create a list with strings and print the element at the third index.\n",
        "\n",
        "list_strings = ['apple','cherry','kiwi','orange']\n",
        "print(list_strings[3])"
      ],
      "metadata": {
        "colab": {
          "base_uri": "https://localhost:8080/"
        },
        "id": "6O7L4FU33b9f",
        "outputId": "18e9e0e1-9160-445b-9ab6-9f718d6a86ee"
      },
      "execution_count": 32,
      "outputs": [
        {
          "output_type": "stream",
          "name": "stdout",
          "text": [
            "orange\n"
          ]
        }
      ]
    },
    {
      "cell_type": "code",
      "source": [
        "#29. Write a code to combine two dictionaries into one and print the result.\n",
        "\n",
        "dict_1={'1':'apple','2':'cherry','3':'kiwi','4':'orange'}\n",
        "dict_2={'1':'banana','5':'mango','6':'watermelon'}\n",
        "dict_3={**dict_1,**dict_2}\n",
        "print(dict_3)"
      ],
      "metadata": {
        "colab": {
          "base_uri": "https://localhost:8080/"
        },
        "id": "hHse6mdk35Mn",
        "outputId": "199167de-4dea-40df-bacf-eec6b5b4803b"
      },
      "execution_count": 33,
      "outputs": [
        {
          "output_type": "stream",
          "name": "stdout",
          "text": [
            "{'1': 'banana', '2': 'cherry', '3': 'kiwi', '4': 'orange', '5': 'mango', '6': 'watermelon'}\n"
          ]
        }
      ]
    },
    {
      "cell_type": "code",
      "source": [
        "#30. Write a code to convert a list of strings into a set.\n",
        "\n",
        "list_string = [\"apple\", \"banana\", \"cherry\", \"apple\",\"cherry\"]\n",
        "set_string = set(list_string)\n",
        "print(set_string)"
      ],
      "metadata": {
        "colab": {
          "base_uri": "https://localhost:8080/"
        },
        "id": "0AtoFlwn5WGQ",
        "outputId": "bb671e20-b240-4286-96c6-91bbacd16be8"
      },
      "execution_count": 34,
      "outputs": [
        {
          "output_type": "stream",
          "name": "stdout",
          "text": [
            "{'cherry', 'banana', 'apple'}\n"
          ]
        }
      ]
    }
  ]
}